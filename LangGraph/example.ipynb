{
 "cells": [
  {
   "cell_type": "code",
   "execution_count": 2,
   "id": "bae84cd5",
   "metadata": {},
   "outputs": [],
   "source": [
    "import os\n",
    "from dotenv import load_dotenv\n",
    "load_dotenv()\n",
    "\n",
    "os.environ[\"OPENAI_API_KEY\"] = os.getenv(\"OPENAI_API_KEY\")"
   ]
  },
  {
   "cell_type": "code",
   "execution_count": 3,
   "id": "08d76dc8",
   "metadata": {},
   "outputs": [],
   "source": [
    "from langchain_openai.chat_models import ChatOpenAI\n",
    "from typing_extensions import TypedDict\n",
    "\n",
    "# LLM instance\n",
    "llm = ChatOpenAI()\n",
    "\n",
    "# Define shared state\n",
    "class State(TypedDict):\n",
    "    user_input: str\n",
    "    task_type: str\n",
    "    result: str"
   ]
  },
  {
   "cell_type": "code",
   "execution_count": 5,
   "id": "5d0d5a0e",
   "metadata": {},
   "outputs": [],
   "source": [
    "from langchain_core.prompts import ChatPromptTemplate\n",
    "\n",
    "\n",
    "# Supervisor agent: decides which agent to call\n",
    "def supervisor(state: State) -> State:\n",
    "    print(\"\\nSupervisor determining task type...\")\n",
    "    prompt = ChatPromptTemplate.from_template(\n",
    "        \"Classify the user request into one of the following types: Researcher, Weather, Coder, Calculator.\\n\\n\"\n",
    "        \"User Input: {user_input}\\n\\n\"\n",
    "        \"Respond with only one word: Researcher, Weather, Coder, or Calculator.\"\n",
    "    )\n",
    "    chain = prompt | llm\n",
    "    task_type = chain.invoke({\"user_input\": state[\"user_input\"]}).content.strip()\n",
    "    print(f\"Supervisor assigned task: {task_type}\")\n",
    "    return {\"task_type\": task_type}\n",
    "\n",
    "# Agent 1: Researcher\n",
    "def researcher_agent(state: State) -> State:\n",
    "    print(\"🔎 Researcher Agent activated...\")\n",
    "    return {\"result\": f\"Performed online search for: {state['user_input']}\"}\n",
    "\n",
    "# Agent 2: Weather\n",
    "def weather_agent(state: State) -> State:\n",
    "    print(\"🌤️ Weather Agent activated...\")\n",
    "    return {\"result\": f\"Fetched weather data for: {state['user_input']}\"}\n",
    "\n",
    "# Agent 3: Coder\n",
    "def coder_agent(state: State) -> State:\n",
    "    print(\"💻 Coder Agent activated...\")\n",
    "    return {\"result\": f\"Generated Python code for: {state['user_input']}\"}\n",
    "\n",
    "# Agent 4: Calculator\n",
    "def calculator_agent(state: State) -> State:\n",
    "    print(\"🧮 Calculator Agent activated...\")\n",
    "    return {\"result\": f\"Calculated result for: {state['user_input']}\"}"
   ]
  },
  {
   "cell_type": "code",
   "execution_count": 6,
   "id": "b07ab1e1",
   "metadata": {},
   "outputs": [],
   "source": [
    "from langgraph.graph import StateGraph, START, END\n",
    "\n",
    "# Setup the workflow graph\n",
    "workflow = StateGraph(State)"
   ]
  },
  {
   "cell_type": "code",
   "execution_count": 7,
   "id": "c5b3a527",
   "metadata": {},
   "outputs": [
    {
     "data": {
      "text/plain": [
       "<langgraph.graph.state.StateGraph at 0x1ffea3188c0>"
      ]
     },
     "execution_count": 7,
     "metadata": {},
     "output_type": "execute_result"
    }
   ],
   "source": [
    "# Register nodes\n",
    "workflow.add_node(\"supervisor\", supervisor)\n",
    "workflow.add_node(\"Researcher\", researcher_agent)\n",
    "workflow.add_node(\"Weather\", weather_agent)\n",
    "workflow.add_node(\"Coder\", coder_agent)\n",
    "workflow.add_node(\"Calculator\", calculator_agent)"
   ]
  },
  {
   "cell_type": "code",
   "execution_count": 8,
   "id": "a429de13",
   "metadata": {},
   "outputs": [
    {
     "data": {
      "text/plain": [
       "<langgraph.graph.state.StateGraph at 0x1ffea3188c0>"
      ]
     },
     "execution_count": 8,
     "metadata": {},
     "output_type": "execute_result"
    }
   ],
   "source": [
    "# Define routing logic based on supervisor decision\n",
    "def route_to_agent(state: State) -> str:\n",
    "    return state[\"task_type\"]\n",
    "\n",
    "# Define graph structure\n",
    "workflow.set_entry_point(\"supervisor\")\n",
    "workflow.add_conditional_edges(\"supervisor\", route_to_agent, {\n",
    "    \"Researcher\": \"Researcher\",\n",
    "    \"Weather\": \"Weather\",\n",
    "    \"Coder\": \"Coder\",\n",
    "    \"Calculator\": \"Calculator\"\n",
    "})\n",
    "workflow.add_edge(\"Researcher\", END)\n",
    "workflow.add_edge(\"Weather\", END)\n",
    "workflow.add_edge(\"Coder\", END)\n",
    "workflow.add_edge(\"Calculator\", END)"
   ]
  },
  {
   "cell_type": "code",
   "execution_count": 9,
   "id": "f3269cd1",
   "metadata": {},
   "outputs": [],
   "source": [
    "# Compile and visualize the graph\n",
    "app = workflow.compile()"
   ]
  },
  {
   "cell_type": "code",
   "execution_count": 10,
   "id": "cb25aff5",
   "metadata": {},
   "outputs": [
    {
     "data": {
      "image/png": "[encoded data removed]",
      "text/plain": [
       "<IPython.core.display.Image object>"
      ]
     },
     "metadata": {},
     "output_type": "display_data"
    }
   ],
   "source": [
    "from IPython.display import Image, display\n",
    "display(Image(app.get_graph().draw_mermaid_png()))"
   ]
  }
 ],
 "metadata": {
  "kernelspec": {
   "display_name": "langgraph-env",
   "language": "python",
   "name": "python3"
  },
  "language_info": {
   "codemirror_mode": {
    "name": "ipython",
    "version": 3
   },
   "file_extension": ".py",
   "mimetype": "text/x-python",
   "name": "python",
   "nbconvert_exporter": "python",
   "pygments_lexer": "ipython3",
   "version": "3.12.0"
  }
 },
 "nbformat": 4,
 "nbformat_minor": 5
}
