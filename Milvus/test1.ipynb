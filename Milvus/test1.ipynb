{
 "cells": [
  {
   "cell_type": "code",
   "execution_count": 10,
   "id": "081106b2",
   "metadata": {},
   "outputs": [],
   "source": [
    "from pymilvus import MilvusClient\n",
    "\n",
    "client = MilvusClient(uri=\"http://localhost:19530\")"
   ]
  },
  {
   "cell_type": "code",
   "execution_count": 11,
   "id": "4a319ca5",
   "metadata": {},
   "outputs": [],
   "source": [
    "if client.has_collection(collection_name=\"demo_collection\"):\n",
    "    client.drop_collection(collection_name=\"demo_collection\")\n",
    "client.create_collection(\n",
    "    collection_name=\"demo_collection\",\n",
    "    dimension=768,  # The vectors we will use in this demo has 768 dimensions\n",
    ")"
   ]
  },
  {
   "cell_type": "code",
   "execution_count": 12,
   "id": "aee378c4",
   "metadata": {},
   "outputs": [
    {
     "name": "stdout",
     "output_type": "stream",
     "text": [
      "['demo_collection']\n"
     ]
    }
   ],
   "source": [
    "print(client.list_collections())"
   ]
  },
  {
   "cell_type": "code",
   "execution_count": 13,
   "id": "5f6338fc",
   "metadata": {},
   "outputs": [
    {
     "name": "stdout",
     "output_type": "stream",
     "text": [
      "{'collection_name': 'demo_collection', 'auto_id': False, 'num_shards': 1, 'description': '', 'fields': [{'field_id': 100, 'name': 'id', 'description': '', 'type': <DataType.INT64: 5>, 'params': {}, 'is_primary': True}, {'field_id': 101, 'name': 'vector', 'description': '', 'type': <DataType.FLOAT_VECTOR: 101>, 'params': {'dim': 768}}], 'functions': [], 'aliases': [], 'collection_id': 457995467641724500, 'consistency_level': 2, 'properties': {}, 'num_partitions': 1, 'enable_dynamic_field': True, 'created_timestamp': 457998651139817476}\n"
     ]
    }
   ],
   "source": [
    "print(client.describe_collection(collection_name=\"demo_collection\"))\n"
   ]
  },
  {
   "cell_type": "code",
   "execution_count": 14,
   "id": "64aac043",
   "metadata": {},
   "outputs": [
    {
     "name": "stdout",
     "output_type": "stream",
     "text": [
      "Dim: 768 (768,)\n",
      "Data has 3 entities, each with fields:  dict_keys(['id', 'vector', 'text', 'subject'])\n",
      "Vector dim: 768\n"
     ]
    }
   ],
   "source": [
    "from pymilvus import model\n",
    "\n",
    "embedding_fn = model.DefaultEmbeddingFunction()\n",
    "\n",
    "docs = [\n",
    "    \"Artificial intelligence was founded as an academic discipline in 1956.\",\n",
    "    \"Alan Turing was the first person to conduct substantial research in AI.\",\n",
    "    \"Born in Maida Vale, London, Turing was raised in southern England.\",\n",
    "]\n",
    "\n",
    "vectors = embedding_fn.encode_documents(docs)\n",
    "\n",
    "print(\"Dim:\", embedding_fn.dim, vectors[0].shape)\n",
    "\n",
    "data = [\n",
    "    {\"id\": i, \"vector\": vectors[i], \"text\": docs[i], \"subject\": \"history\"}\n",
    "    for i in range(len(vectors))\n",
    "]\n",
    "\n",
    "print(\"Data has\", len(data), \"entities, each with fields: \", data[0].keys())\n",
    "print(\"Vector dim:\", len(data[0][\"vector\"]))\n"
   ]
  },
  {
   "cell_type": "code",
   "execution_count": 15,
   "id": "cf01566a",
   "metadata": {},
   "outputs": [
    {
     "name": "stdout",
     "output_type": "stream",
     "text": [
      "{'insert_count': 3, 'ids': [0, 1, 2]}\n"
     ]
    }
   ],
   "source": [
    "res = client.insert(collection_name=\"demo_collection\", data=data)\n",
    "print(res)"
   ]
  },
  {
   "cell_type": "code",
   "execution_count": 16,
   "id": "9a294396",
   "metadata": {},
   "outputs": [],
   "source": [
    "results = client.query(\n",
    "    collection_name=\"demo_collection\",\n",
    "    filter=\"subject == 'history'\",\n",
    "    output_fields=[\"id\", \"text\", \"subject\"]\n",
    ")\n",
    "\n",
    "for doc in results:\n",
    "    print(doc)"
   ]
  },
  {
   "cell_type": "code",
   "execution_count": null,
   "id": "f05cc28f",
   "metadata": {},
   "outputs": [
    {
     "name": "stdout",
     "output_type": "stream",
     "text": [
      "data: [[]]\n"
     ]
    }
   ],
   "source": [
    "query_vectors = embedding_fn.encode_queries([\"Who is Alan Turing?\"])\n",
    "\n",
    "res = client.search(\n",
    "    collection_name=\"demo_collection\",  # target collection\n",
    "    data=query_vectors,  # query vectors\n",
    "    limit=2,  # number of returned entities\n",
    "    output_fields=[\"text\", \"subject\"],  # specifies fields to be returned\n",
    ")\n",
    "    \n",
    "print(res)"
   ]
  },
  {
   "cell_type": "code",
   "execution_count": 19,
   "id": "68996221",
   "metadata": {},
   "outputs": [
    {
     "name": "stdout",
     "output_type": "stream",
     "text": [
      "{'insert_count': 3, 'ids': [3, 4, 5]}\n"
     ]
    }
   ],
   "source": [
    "docs = [\n",
    "    \"Machine learning has been used for drug design.\",\n",
    "    \"Computational synthesis with AI algorithms predicts molecular properties.\",\n",
    "    \"DDR1 is involved in cancers and fibrosis.\",\n",
    "]\n",
    "\n",
    "vectors = embedding_fn.encode_documents(docs)\n",
    "\n",
    "data = [\n",
    "    {\"id\": 3 + i, \"vector\": vectors[i], \"text\": docs[i], \"subject\": \"biology\"}\n",
    "    for i in range(len(vectors))\n",
    "]\n",
    "\n",
    "res = client.insert(collection_name=\"demo_collection\", data=data)\n",
    "print(res)\n",
    "\n",
    "\n",
    "\n"
   ]
  },
  {
   "cell_type": "code",
   "execution_count": 21,
   "id": "e423784e",
   "metadata": {},
   "outputs": [
    {
     "name": "stdout",
     "output_type": "stream",
     "text": [
      "data: [[{'id': 4, 'distance': 0.2703055739402771, 'entity': {'text': 'Computational synthesis with AI algorithms predicts molecular properties.', 'subject': 'biology'}}]]\n"
     ]
    }
   ],
   "source": [
    "res = client.search(\n",
    "    collection_name=\"demo_collection\",\n",
    "    data=embedding_fn.encode_queries([\"tell me AI related information\"]),\n",
    "    filter=\"subject == 'biology'\",\n",
    "    limit=2,\n",
    "    output_fields=[\"text\", \"subject\"],\n",
    ")\n",
    "\n",
    "print(res)"
   ]
  },
  {
   "cell_type": "code",
   "execution_count": 23,
   "id": "ea22f609",
   "metadata": {},
   "outputs": [
    {
     "name": "stdout",
     "output_type": "stream",
     "text": [
      "data: [\"{'id': 0, 'text': 'Artificial intelligence was founded as an academic discipline in 1956.', 'subject': 'history'}\", \"{'id': 1, 'text': 'Alan Turing was the first person to conduct substantial research in AI.', 'subject': 'history'}\", \"{'id': 2, 'text': 'Born in Maida Vale, London, Turing was raised in southern England.', 'subject': 'history'}\"]\n"
     ]
    }
   ],
   "source": [
    "res = client.query(\n",
    "    collection_name=\"demo_collection\",\n",
    "    filter=\"subject == 'history'\",\n",
    "    output_fields=[\"text\", \"subject\"],\n",
    ")\n",
    "\n",
    "print(res)"
   ]
  },
  {
   "cell_type": "code",
   "execution_count": 27,
   "id": "2adb2c94",
   "metadata": {},
   "outputs": [
    {
     "name": "stdout",
     "output_type": "stream",
     "text": [
      "data: [\"{'vector': [np.float32(0.01072784), np.float32(-0.03589515), np.float32(0.018749738), np.float32(0.016348766), np.float32(0.0365169), np.float32(0.0035881721), np.float32(-0.0004004701), np.float32(0.028529387), np.float32(0.002274549), np.float32(0.0018362501), np.float32(0.00422585), np.float32(0.027173959), np.float32(-0.0036843463), np.float32(0.030791564), np.float32(0.0045054313), np.float32(0.04422815), np.float32(0.010503838), np.float32(-0.029494528), np.float32(-0.0670734), np.float32(-0.02052644), np.float32(0.015322757), np.float32(-0.0060049477), np.float32(-0.06228548), np.float32(-0.039614733), np.float32(0.014206295), np.float32(0.03270766), np.float32(-0.020834588), np.float32(-0.044174295), np.float32(-0.028339865), np.float32(0.029424466), np.float32(-0.028087215), np.float32(-0.02080904), np.float32(0.017159743), np.float32(0.0021116557), np.float32(0.021823762), np.float32(-0.0015776267), np.float32(-0.037696723), np.float32(0.041460745), np.float32(-0.025056371), np.float32(0.08333677), np.float32(-0.015979158), np.float32(0.0098138135), np.float32(-0.026605394), np.float32(0.00061899296), np.float32(0.0037359006), np.float32(-0.034155164), np.float32(0.058708258), np.float32(-0.023721963), np.float32(0.006745936), np.float32(-0.035841852), np.float32(-0.017560016), np.float32(0.022803145), np.float32(0.002664642), np.float32(0.025119293), np.float32(0.04694517), np.float32(0.012622698), np.float32(0.01833743), np.float32(-0.00716558), np.float32(0.042811252), np.float32(0.0050310087), np.float32(0.057055518), np.float32(-0.014866011), np.float32(0.100454725), np.float32(0.0064572706), np.float32(-0.068327196), np.float32(-0.016902713), np.float32(0.01197728), np.float32(-0.0015766292), np.float32(-0.022061693), np.float32(0.021156557), np.float32(0.040710855), np.float32(-0.036009934), np.float32(0.019724019), np.float32(-0.047073323), np.float32(-0.08744205), np.float32(-0.00463499), np.float32(0.030835014), np.float32(0.105151996), np.float32(0.016167019), np.float32(-0.008001084), np.float32(0.03367397), np.float32(0.015985578), np.float32(0.03438014), np.float32(0.01834294), np.float32(0.07770008), np.float32(0.02650155), np.float32(-0.052214283), np.float32(-0.09021929), np.float32(-0.012340427), np.float32(0.0530276), np.float32(-0.001127529), np.float32(-0.0059589357), np.float32(0.047962442), np.float32(-0.007965624), np.float32(-0.028406031), np.float32(0.028527314), np.float32(0.06754475), np.float32(-0.028825592), np.float32(-0.03410525), np.float32(0.08487629), np.float32(-0.0076647936), np.float32(-0.06363439), np.float32(-0.06831098), np.float32(-0.033039115), np.float32(-0.0027655368), np.float32(0.0015893044), np.float32(0.013780068), np.float32(-0.018580532), np.float32(-0.008844644), np.float32(-0.05322504), np.float32(-0.014389207), np.float32(0.008077418), np.float32(-0.031215182), np.float32(0.018773355), np.float32(0.04937638), np.float32(0.07315664), np.float32(-0.041901678), np.float32(0.06690273), np.float32(0.008933766), np.float32(0.045684546), np.float32(0.032135233), np.float32(-0.0035595451), np.float32(-0.046143167), np.float32(0.009210243), np.float32(0.067790285), np.float32(0.013374874), np.float32(0.01045406), np.float32(0.037199087), np.float32(0.015420882), np.float32(0.0087867165), np.float32(-0.03334937), np.float32(0.015551737), np.float32(0.059877004), np.float32(0.028978257), np.float32(0.04653308), np.float32(-0.0051459353), np.float32(0.0045557413), np.float32(-0.0018195225), np.float32(0.01053924), np.float32(-0.019132162), np.float32(0.01162155), np.float32(0.014161898), np.float32(0.003436853), np.float32(0.00577895), np.float32(0.035289325), np.float32(0.05426299), np.float32(-0.051606007), np.float32(-0.042924426), np.float32(-0.015439724), np.float32(0.014695486), np.float32(0.012905042), np.float32(-0.006806443), np.float32(0.054335684), np.float32(0.003522818), np.float32(-0.025712887), np.float32(0.0006318656), np.float32(0.016166903), np.float32(-0.006968866), np.float32(-0.042992014), np.float32(0.020684348), np.float32(0.008367286), np.float32(-0.027046844), np.float32(0.08865565), np.float32(-0.052853335), np.float32(-0.012384381), np.float32(-0.041823875), np.float32(0.028681042), np.float32(0.05126986), np.float32(0.060686313), np.float32(0.023955053), np.float32(0.015168799), np.float32(0.07542113), np.float32(0.03369931), np.float32(0.043067973), np.float32(0.042949375), np.float32(-0.010862307), np.float32(-0.023625625), np.float32(-0.06973065), np.float32(-0.070567705), np.float32(-0.02025792), np.float32(0.015855916), np.float32(-0.033651356), np.float32(-0.048191), np.float32(0.05676073), np.float32(0.018719789), np.float32(-0.0074206525), np.float32(0.0074845385), np.float32(0.0042103226), np.float32(-0.010225805), np.float32(0.030543689), np.float32(0.031152325), np.float32(-0.018680105), np.float32(0.050743192), np.float32(0.0009909875), np.float32(-0.0072155623), np.float32(-0.009345533), np.float32(0.054573238), np.float32(0.032344304), np.float32(0.044765465), np.float32(-0.07086169), np.float32(0.009228133), np.float32(0.0067005046), np.float32(-0.088096485), np.float32(-0.02257812), np.float32(0.024984835), np.float32(0.0608311), np.float32(0.019521924), np.float32(-0.07480259), np.float32(0.033076182), np.float32(0.0043049357), np.float32(0.02826552), np.float32(0.036641333), np.float32(0.029163504), np.float32(-0.007841), np.float32(0.016264921), np.float32(-0.011263656), np.float32(-0.0017616551), np.float32(-0.012803457), np.float32(0.020408424), np.float32(0.019711092), np.float32(-0.0017435343), np.float32(-0.032370485), np.float32(-0.015500322), np.float32(9.198698e-05), np.float32(-0.029747184), np.float32(-0.003981712), np.float32(0.007836206), np.float32(0.061483238), np.float32(-0.06592354), np.float32(-0.007985855), np.float32(0.06693116), np.float32(0.009926561), np.float32(-0.0034373056), np.float32(-0.036024176), np.float32(-0.02795151), np.float32(-0.04650127), np.float32(-0.06412067), np.float32(0.03642689), np.float32(0.0825344), np.float32(0.058578413), np.float32(-0.050326906), np.float32(-0.004552819), np.float32(0.0057323417), np.float32(0.032517217), np.float32(0.0040370347), np.float32(-0.042140204), np.float32(-0.030833278), np.float32(-0.031996936), np.float32(-0.037709754), np.float32(0.028296923), np.float32(0.018784652), np.float32(0.032598782), np.float32(0.008394999), np.float32(0.026254565), np.float32(-0.01505596), np.float32(-0.008743744), np.float32(0.015322096), np.float32(0.036640193), np.float32(-0.03363236), np.float32(-0.022526579), np.float32(0.03264003), np.float32(-0.019599907), np.float32(-0.039372683), np.float32(0.05402886), np.float32(-0.06214921), np.float32(0.004090804), np.float32(0.044355474), np.float32(-0.001442027), np.float32(0.014154449), np.float32(0.040782694), np.float32(-0.032073263), np.float32(0.01871426), np.float32(-0.0071425694), np.float32(-0.016126815), np.float32(0.018809818), np.float32(0.024941208), np.float32(-0.0033121915), np.float32(-0.030162675), np.float32(-0.069361046), np.float32(-0.029193755), np.float32(-0.012788973), np.float32(-0.014814703), np.float32(-0.021107176), np.float32(0.0019981011), np.float32(-0.035829935), np.float32(0.003942356), np.float32(-0.06656842), np.float32(0.032609105), np.float32(0.020936647), np.float32(-0.016428733), np.float32(-0.043375727), np.float32(0.022506652), np.float32(0.03756984), np.float32(0.021610012), np.float32(-0.0100742355), np.float32(-0.02976784), np.float32(0.036091402), np.float32(-0.048857596), np.float32(-0.067347504), np.float32(-0.00286092), np.float32(0.047057606), np.float32(0.063848026), np.float32(0.033374727), np.float32(0.028490296), np.float32(0.08580722), np.float32(0.027610151), np.float32(-0.011656813), np.float32(0.04282331), np.float32(0.007727473), np.float32(0.055311423), np.float32(0.023568593), np.float32(-0.052288935), np.float32(-0.021390546), np.float32(0.022336535), np.float32(-0.021049445), np.float32(0.11713362), np.float32(-0.008431856), np.float32(-0.009813105), np.float32(0.022475466), np.float32(-0.015468915), np.float32(0.0429839), np.float32(0.0021705616), np.float32(0.04106739), np.float32(0.03453487), np.float32(0.02216404), np.float32(-0.014718488), np.float32(0.009893835), np.float32(-0.007470287), np.float32(0.043819107), np.float32(0.079693556), np.float32(-0.008172699), np.float32(0.02113235), np.float32(-0.01152827), np.float32(0.013240925), np.float32(0.022433836), np.float32(0.0009229071), np.float32(0.028354507), np.float32(0.025504567), np.float32(0.052205924), np.float32(-0.051219862), np.float32(-0.1183836), np.float32(0.015328748), np.float32(-0.09112672), np.float32(-0.0065620136), np.float32(0.028712686), np.float32(-0.0023050099), np.float32(-0.06273161), np.float32(-0.062445927), np.float32(-0.000224942), np.float32(-0.05743223), np.float32(0.045935426), np.float32(-0.003651397), np.float32(0.051867925), np.float32(0.040445372), np.float32(-0.013785154), np.float32(-0.042955942), np.float32(-0.027023336), np.float32(0.022376968), np.float32(-0.0025893694), np.float32(0.012199838), np.float32(-0.06592009), np.float32(-0.023238117), np.float32(-0.06538679), np.float32(-0.009300314), np.float32(-0.064103976), np.float32(-0.0012813671), np.float32(-0.037788607), np.float32(-0.025802009), np.float32(-0.014350005), np.float32(-0.027356545), np.float32(-0.0059369085), np.float32(-0.017061643), np.float32(-0.0029574784), np.float32(0.057201676), np.float32(-0.036152255), np.float32(-0.003929708), np.float32(-0.013378806), np.float32(0.002776838), np.float32(0.028487312), np.float32(-0.031976636), np.float32(-0.015682448), np.float32(0.04255541), np.float32(0.0024153204), np.float32(-0.04018206), np.float32(-0.046252202), np.float32(0.017401775), np.float32(-0.0031099892), np.float32(-0.037886452), np.float32(-0.030089026), np.float32(0.021874141), np.float32(-0.050345138), np.float32(0.074992634), np.float32(0.006069049), np.float32(0.00016537336), np.float32(-0.0022044592), np.float32(0.04039781), np.float32(0.04486405), np.float32(0.0448386), np.float32(0.016727978), np.float32(0.019455109), np.float32(0.009703004), np.float32(-0.07138638), np.float32(0.0045471597), np.float32(0.011842778), np.float32(-0.021119958), np.float32(0.03186223), np.float32(-0.016316384), np.float32(-0.032452937), np.float32(0.04373429), np.float32(-0.037809506), np.float32(0.018628616), np.float32(0.0026923518), np.float32(0.021439634), np.float32(0.011781702), np.float32(-0.05506033), np.float32(0.09022325), np.float32(-0.011055411), np.float32(0.0696076), np.float32(-0.00035916895), np.float32(-0.08548545), np.float32(0.023872502), np.float32(-0.011865827), np.float32(0.015521559), np.float32(-0.04648565), np.float32(0.015402179), np.float32(0.045940984), np.float32(-0.0070058233), np.float32(-0.009859618), np.float32(0.018634956), np.float32(-0.10528864), np.float32(0.08274659), np.float32(0.048377443), np.float32(-0.03585808), np.float32(0.026860308), np.float32(-0.023511956), np.float32(-0.053222526), np.float32(0.017320262), np.float32(-0.0098801), np.float32(-0.050168414), np.float32(-0.08366872), np.float32(-0.0070052287), np.float32(-0.02042797), np.float32(0.011652227), np.float32(-0.051846538), np.float32(-0.0062781875), np.float32(0.054824673), np.float32(0.011988228), np.float32(-0.008480072), np.float32(0.08319911), np.float32(0.016768776), np.float32(-0.0064335954), np.float32(-0.001610786), np.float32(-0.0510406), np.float32(0.0074883527), np.float32(-0.017966688), np.float32(-0.0047214734), np.float32(-0.047707114), np.float32(-0.0064259185), np.float32(-0.026500847), np.float32(-0.001560902), np.float32(0.024658956), np.float32(-0.05081786), np.float32(-0.039008196), np.float32(0.037326124), np.float32(0.0072396975), np.float32(0.011915891), np.float32(-0.03359963), np.float32(-0.0045112236), np.float32(0.062144924), np.float32(-0.019449402), np.float32(-0.006828425), np.float32(-0.012891609), np.float32(-0.02755838), np.float32(0.056652866), np.float32(-0.004448448), np.float32(-0.015507994), np.float32(0.0012088954), np.float32(-0.021853732), np.float32(0.02412646), np.float32(-0.079422586), np.float32(0.010106065), np.float32(0.023366364), np.float32(-0.054953102), np.float32(0.022021983), np.float32(0.010016442), np.float32(0.009916906), np.float32(0.016157081), np.float32(-0.020806715), np.float32(0.017552564), np.float32(0.07044915), np.float32(0.006960413), np.float32(-0.08593747), np.float32(0.010648436), np.float32(-0.02826761), np.float32(0.030690182), np.float32(-0.053092696), np.float32(-0.018545743), np.float32(-0.04026192), np.float32(0.021165444), np.float32(0.029509071), np.float32(-0.008143827), np.float32(0.018382343), np.float32(0.019559424), np.float32(-0.0492136), np.float32(0.0432258), np.float32(0.07707729), np.float32(-0.022410428), np.float32(0.01040977), np.float32(-0.002723206), np.float32(0.0017686135), np.float32(-0.030084321), np.float32(0.042996142), np.float32(0.004371945), np.float32(-0.0062417313), np.float32(-0.00024068687), np.float32(0.019953888), np.float32(-0.029913113), np.float32(-0.0036833058), np.float32(0.0072269198), np.float32(0.0091771865), np.float32(-0.014358134), np.float32(-0.009241993), np.float32(-0.054557066), np.float32(-0.041030712), np.float32(-0.031650085), np.float32(-0.017134555), np.float32(-0.07748568), np.float32(0.039888922), np.float32(0.03924001), np.float32(0.04896517), np.float32(-0.033233196), np.float32(-0.056566454), np.float32(0.006678551), np.float32(0.04354198), np.float32(-0.038403857), np.float32(0.0101541495), np.float32(-0.07914138), np.float32(-0.021797365), np.float32(-0.026838424), np.float32(0.019221447), np.float32(-0.040806666), np.float32(-0.035613306), np.float32(0.01409001), np.float32(0.0076712254), np.float32(0.029675301), np.float32(-0.06884529), np.float32(-0.056289546), np.float32(0.05667395), np.float32(-0.050510254), np.float32(-0.00088995835), np.float32(-0.005598921), np.float32(0.0033065258), np.float32(0.0057416735), np.float32(-0.026555004), np.float32(-0.008715427), np.float32(0.031434104), np.float32(0.08313017), np.float32(0.038394652), np.float32(-0.058066368), np.float32(0.01918309), np.float32(-0.009726548), np.float32(0.0284389), np.float32(-0.028811365), np.float32(-0.008976409), np.float32(-0.103424065), np.float32(-0.058222927), np.float32(-0.037119865), np.float32(0.02770041), np.float32(-0.045889884), np.float32(-0.030398615), np.float32(-0.039721828), np.float32(-0.03050814), np.float32(-0.019951174), np.float32(0.0015739237), np.float32(0.029676594), np.float32(-0.023864958), np.float32(0.063676864), np.float32(-0.0012287647), np.float32(-0.004436876), np.float32(0.04137747), np.float32(-0.013923589), np.float32(-0.08683906), np.float32(-0.0025845638), np.float32(0.004466323), np.float32(-0.058240198), np.float32(-0.02084864), np.float32(0.011324766), np.float32(0.060676303), np.float32(0.0013325701), np.float32(0.021893488), np.float32(-0.011963786), np.float32(0.017577767), np.float32(0.0006795672), np.float32(0.010710885), np.float32(0.0028006295), np.float32(-0.035948303), np.float32(-0.043163326), np.float32(-0.01026259), np.float32(0.024484394), np.float32(0.037180852), np.float32(-0.010336643), np.float32(-0.026769916), np.float32(0.048004165), np.float32(-0.03420338), np.float32(-0.014748432), np.float32(-0.006314017), np.float32(-0.002850558), np.float32(0.028525122), np.float32(-0.045609985), np.float32(0.06568239), np.float32(-0.049970783), np.float32(0.014379417), np.float32(0.046767067), np.float32(-0.00048966), np.float32(-0.0024831018), np.float32(-0.027972389), np.float32(0.046457343), np.float32(0.021673242), np.float32(0.0023266426), np.float32(0.0026431356), np.float32(0.035424143), np.float32(-0.026333503), np.float32(-0.034039304), np.float32(0.022624632), np.float32(-0.032912765), np.float32(0.018376336), np.float32(-0.027667418), np.float32(0.016704382), np.float32(-0.0021190282), np.float32(-0.04678491), np.float32(-0.030945785), np.float32(0.015710685), np.float32(0.037608474), np.float32(0.015457946), np.float32(0.01971185), np.float32(0.0015763419), np.float32(-0.012232289), np.float32(-0.025360476), np.float32(-0.00022529712), np.float32(0.04619015), np.float32(-0.021766456), np.float32(0.04186549), np.float32(0.025460241), np.float32(0.019476026), np.float32(0.0036154918), np.float32(-0.05268991), np.float32(-0.027686045), np.float32(-0.0015856602), np.float32(-0.04063975), np.float32(0.010056796), np.float32(0.0027428197), np.float32(0.01683984), np.float32(-0.05300666), np.float32(-0.020662587), np.float32(0.054520894), np.float32(0.0064187236), np.float32(-0.0998017), np.float32(-0.013525767), np.float32(-0.04314712), np.float32(-0.0005657721), np.float32(0.016672015), np.float32(-0.0014401267), np.float32(-0.050401706), np.float32(0.014656936), np.float32(0.016222987), np.float32(-0.006697687), np.float32(0.04085151), np.float32(0.040931363), np.float32(-0.03732684), np.float32(0.042844236), np.float32(0.05090431), np.float32(-0.027281368), np.float32(0.010571506), np.float32(-0.05723971), np.float32(-0.0040859976), np.float32(-0.037317406), np.float32(-0.02698224), np.float32(-0.008642878), np.float32(0.0049741287), np.float32(0.026029184), np.float32(0.02021466), np.float32(0.032763813), np.float32(0.016982986), np.float32(0.06404004), np.float32(0.072279125), np.float32(-0.08395769), np.float32(0.013537546), np.float32(-0.027551083), np.float32(0.007747545), np.float32(-0.0018074128), np.float32(-0.015464079), np.float32(0.03398149), np.float32(0.034956213), np.float32(-0.008311086), np.float32(0.01790649), np.float32(0.00599851), np.float32(0.03730631), np.float32(0.020443456), np.float32(-0.019732172), np.float32(-0.05377192), np.float32(-0.018225815), np.float32(-0.045110494), np.float32(-0.011363923), np.float32(0.016595922), np.float32(-0.008448551), np.float32(-0.038325578), np.float32(-0.00014411779), np.float32(0.0039162524), np.float32(0.014675593), np.float32(-0.051637266), np.float32(0.017472332), np.float32(-0.014575287), np.float32(0.09661896), np.float32(-0.011524736), np.float32(-0.032023955), np.float32(-0.0309501), np.float32(0.007309802), np.float32(-0.02888216), np.float32(0.0153195225), np.float32(0.0062880325), np.float32(-0.062369827), np.float32(0.048629984), np.float32(-0.0010824731), np.float32(-0.036816936), np.float32(-0.004562225), np.float32(0.012973148), np.float32(0.019638179), np.float32(-0.028105536), np.float32(0.023023287), np.float32(-0.00094933884), np.float32(-0.01709521), np.float32(-0.044111654), np.float32(-0.004534842), np.float32(-0.005330967), np.float32(-0.031483807), np.float32(-0.07105841), np.float32(0.03053116), np.float32(0.0037262237), np.float32(0.003281028), np.float32(0.014718054), np.float32(0.057047527), np.float32(-0.046617936), np.float32(-0.00024931892), np.float32(-0.07460314), np.float32(0.020438947), np.float32(0.034377474), np.float32(-0.06527676), np.float32(0.046990514), np.float32(0.02138343), np.float32(-0.0038603025), np.float32(0.02175944), np.float32(0.0018460065), np.float32(-0.010373088), np.float32(-0.007582194), np.float32(-0.0072503993), np.float32(0.025801143), np.float32(0.00726363), np.float32(-0.025909426), np.float32(-0.017626168), np.float32(-0.02297466), np.float32(-0.004276843), np.float32(-0.006985676), np.float32(0.06555152), np.float32(0.0010739658), np.float32(0.042343017), np.float32(-0.016625768), np.float32(0.012465794), np.float32(-0.013358161)], 'text': 'Artificial intelligence was founded as an academic discipline in 1956.', 'subject': 'history', 'id': 0}\", \"{'vector': [np.float32(0.019281346), np.float32(-0.02828315), np.float32(-0.07675662), np.float32(-0.017908147), np.float32(0.011845654), np.float32(0.054446075), np.float32(0.037965734), np.float32(0.057670478), np.float32(0.01960348), np.float32(0.0018648546), np.float32(-0.057416767), np.float32(0.021919271), np.float32(-0.060799655), np.float32(-0.037110288), np.float32(-0.066613875), np.float32(-0.014013305), np.float32(-0.010843663), np.float32(0.020752624), np.float32(-0.0052933884), np.float32(0.050541725), np.float32(-0.03552853), np.float32(-0.062134054), np.float32(-0.0028828674), np.float32(0.007493763), np.float32(0.038220234), np.float32(0.009055189), np.float32(-0.027246818), np.float32(-0.015463817), np.float32(-0.002479727), np.float32(0.0060072085), np.float32(-0.016478626), np.float32(-0.024107799), np.float32(0.009196091), np.float32(0.02011573), np.float32(0.021710366), np.float32(-0.01663462), np.float32(-0.029107522), np.float32(-0.006651711), np.float32(0.021902205), np.float32(-0.0042418083), np.float32(-0.04010173), np.float32(-0.010728978), np.float32(-0.04517375), np.float32(-0.012757471), np.float32(-0.016636856), np.float32(-0.023162382), np.float32(0.013965447), np.float32(0.011016191), np.float32(0.014364061), np.float32(0.009491416), np.float32(-0.026133554), np.float32(-0.017711572), np.float32(0.00021032178), np.float32(0.0042419685), np.float32(-0.041517105), np.float32(0.018948456), np.float32(-0.0030209706), np.float32(-0.05733008), np.float32(0.019971784), np.float32(-0.0005910284), np.float32(-0.0038510435), np.float32(0.012202605), np.float32(0.0037067907), np.float32(-0.04236049), np.float32(0.05811384), np.float32(-0.021250885), np.float32(-0.008751343), np.float32(-0.021307096), np.float32(-0.017953346), np.float32(0.022048205), np.float32(-0.004337984), np.float32(0.06171635), np.float32(-0.052218113), np.float32(0.018087272), np.float32(-0.006341), np.float32(-0.03412466), np.float32(-0.010159088), np.float32(0.08677438), np.float32(-0.06972405), np.float32(-0.056788526), np.float32(0.0001873044), np.float32(-0.04103068), np.float32(-0.041439235), np.float32(0.044522166), np.float32(-0.025784418), np.float32(-0.037024584), np.float32(0.002814245), np.float32(-0.023263168), np.float32(0.0071519674), np.float32(0.016516533), np.float32(-0.03570078), np.float32(-0.0067627113), np.float32(0.04011624), np.float32(0.023779774), np.float32(-0.037065264), np.float32(0.017166348), np.float32(-0.0051540635), np.float32(0.044314835), np.float32(-0.017476877), np.float32(0.025730895), np.float32(-0.00071739114), np.float32(-0.07070817), np.float32(0.023777872), np.float32(0.027851734), np.float32(0.0075201816), np.float32(-0.006730793), np.float32(0.0303551), np.float32(0.03225239), np.float32(0.04862776), np.float32(0.031450216), np.float32(-0.0043088603), np.float32(0.04749466), np.float32(-0.056381274), np.float32(0.045058746), np.float32(0.054217294), np.float32(-0.022450171), np.float32(-0.023444977), np.float32(0.016400458), np.float32(-0.10038763), np.float32(-0.011314822), np.float32(0.030737495), np.float32(0.069987305), np.float32(0.0072538718), np.float32(0.013823624), np.float32(0.009824786), np.float32(0.026957776), np.float32(0.016245194), np.float32(0.07178875), np.float32(-0.038917076), np.float32(-0.043909285), np.float32(0.01617792), np.float32(0.035242695), np.float32(0.06323487), np.float32(0.0032882197), np.float32(0.042217687), np.float32(-0.018130774), np.float32(0.033415336), np.float32(-0.016487915), np.float32(-0.017070683), np.float32(0.04443124), np.float32(0.012687604), np.float32(-0.026999239), np.float32(0.053910196), np.float32(0.031299613), np.float32(0.009924164), np.float32(0.04964355), np.float32(-0.033303406), np.float32(0.021308446), np.float32(0.02457506), np.float32(0.0010056483), np.float32(0.014374928), np.float32(0.022674426), np.float32(0.0330113), np.float32(0.013506858), np.float32(0.0061712256), np.float32(-0.07136218), np.float32(0.011002991), np.float32(0.0063664084), np.float32(0.061733767), np.float32(-0.020329757), np.float32(0.012794093), np.float32(0.05204827), np.float32(0.020072622), np.float32(-0.002367339), np.float32(0.014110026), np.float32(-0.06598977), np.float32(0.008995855), np.float32(-0.009364161), np.float32(0.013119142), np.float32(-0.0446135), np.float32(-0.0037816556), np.float32(-0.010297587), np.float32(0.039096795), np.float32(0.030267416), np.float32(-0.014214485), np.float32(0.021846134), np.float32(-0.031738188), np.float32(-0.09012188), np.float32(-0.07074502), np.float32(-0.013102688), np.float32(-0.025164355), np.float32(0.042046983), np.float32(0.014155777), np.float32(0.00327339), np.float32(-0.0037687304), np.float32(-0.02463964), np.float32(-0.026024584), np.float32(-0.039417863), np.float32(0.045451548), np.float32(-0.01236595), np.float32(-0.008559604), np.float32(0.013582034), np.float32(0.03895763), np.float32(0.020395873), np.float32(-0.068793654), np.float32(0.027147159), np.float32(-0.012379947), np.float32(-0.041640304), np.float32(0.02212182), np.float32(-0.034409136), np.float32(-0.028521582), np.float32(-0.011365898), np.float32(-0.010214736), np.float32(-0.06331986), np.float32(0.007565676), np.float32(-0.016511677), np.float32(-0.07761666), np.float32(-0.02051403), np.float32(-0.0596387), np.float32(0.025096495), np.float32(0.018933224), np.float32(0.029662268), np.float32(0.03792363), np.float32(0.0040797666), np.float32(-0.041513737), np.float32(-0.047014896), np.float32(-0.04185042), np.float32(0.050889738), np.float32(0.060534623), np.float32(-0.017094683), np.float32(-0.043227095), np.float32(-0.012025388), np.float32(-0.02076682), np.float32(0.0029238374), np.float32(-0.01796386), np.float32(0.027016556), np.float32(0.057122365), np.float32(0.035046395), np.float32(-0.060144957), np.float32(-0.009496815), np.float32(0.019804895), np.float32(0.068344526), np.float32(-0.037500102), np.float32(0.0007730556), np.float32(0.030533398), np.float32(0.04122324), np.float32(-0.037687134), np.float32(0.0037212942), np.float32(0.005761431), np.float32(-0.0077428683), np.float32(-0.00052020827), np.float32(-0.006998221), np.float32(0.02769008), np.float32(-0.0044301962), np.float32(-0.03888068), np.float32(0.028535115), np.float32(-0.014973748), np.float32(0.046119533), np.float32(-0.028779015), np.float32(0.020385947), np.float32(0.009635472), np.float32(-0.08387161), np.float32(-0.014588022), np.float32(-0.028878758), np.float32(0.071092576), np.float32(-0.03932676), np.float32(-0.014365814), np.float32(0.03300437), np.float32(-0.009965346), np.float32(0.07141565), np.float32(-0.0008204904), np.float32(0.02845119), np.float32(-0.019422576), np.float32(0.061431363), np.float32(-0.045484506), np.float32(-0.0035509334), np.float32(0.047535494), np.float32(0.011838813), np.float32(0.05034511), np.float32(0.029790381), np.float32(0.0080643), np.float32(0.058105446), np.float32(-0.031105807), np.float32(-0.019651756), np.float32(0.019874401), np.float32(0.025774926), np.float32(-0.03569162), np.float32(-0.02781438), np.float32(-0.030203957), np.float32(0.012086143), np.float32(-0.012683616), np.float32(-0.012322038), np.float32(0.007811041), np.float32(0.025085863), np.float32(0.021967817), np.float32(0.05730505), np.float32(-0.0045646387), np.float32(-0.05944535), np.float32(0.028725412), np.float32(0.037857953), np.float32(-0.046775833), np.float32(0.03893249), np.float32(0.001148525), np.float32(0.00097348477), np.float32(-0.030015286), np.float32(-0.051708814), np.float32(0.008896203), np.float32(-0.019983081), np.float32(0.0034602091), np.float32(0.0001665873), np.float32(0.034343712), np.float32(0.091479525), np.float32(0.03364074), np.float32(-0.018500725), np.float32(-0.021546183), np.float32(-0.0030688413), np.float32(0.066522405), np.float32(-0.04645688), np.float32(0.06729324), np.float32(0.0073863054), np.float32(-0.012557544), np.float32(0.011506429), np.float32(-0.063269794), np.float32(0.034950618), np.float32(0.016623659), np.float32(0.011610499), np.float32(0.054197364), np.float32(0.02357066), np.float32(0.020201314), np.float32(0.032954447), np.float32(-0.009367009), np.float32(0.031756576), np.float32(-0.038627777), np.float32(0.0023692155), np.float32(-0.03657647), np.float32(0.034663364), np.float32(0.020835996), np.float32(0.062882096), np.float32(-0.020952474), np.float32(0.012533532), np.float32(-0.012294995), np.float32(0.018241817), np.float32(-0.017522665), np.float32(-0.03897101), np.float32(-0.014575269), np.float32(0.0004971624), np.float32(-0.0035093825), np.float32(0.006997096), np.float32(0.009521071), np.float32(-0.004801582), np.float32(-0.06323639), np.float32(0.0048354), np.float32(0.060904782), np.float32(0.025174307), np.float32(-0.01225005), np.float32(0.02337907), np.float32(-0.03577503), np.float32(-0.014167597), np.float32(-0.060607694), np.float32(0.04212288), np.float32(0.0008152681), np.float32(0.04905007), np.float32(-0.0019857313), np.float32(0.08047499), np.float32(0.0057676258), np.float32(0.008000474), np.float32(0.0008860685), np.float32(-0.09224463), np.float32(-0.0035736372), np.float32(0.03317481), np.float32(0.033161905), np.float32(0.030172866), np.float32(-0.073363826), np.float32(0.032652926), np.float32(-0.0017742896), np.float32(0.008425111), np.float32(0.020061105), np.float32(-0.02199037), np.float32(-0.016464625), np.float32(0.030506337), np.float32(0.028185954), np.float32(0.033041093), np.float32(0.050610308), np.float32(0.0040053157), np.float32(-0.011990785), np.float32(-0.001411233), np.float32(0.0048716953), np.float32(-0.017679615), np.float32(0.011223993), np.float32(-0.007503292), np.float32(0.05154953), np.float32(0.03368424), np.float32(-0.01910331), np.float32(-0.014495844), np.float32(-0.04405717), np.float32(-0.017490713), np.float32(-0.026463266), np.float32(0.022244666), np.float32(0.0037452274), np.float32(-0.056957852), np.float32(0.037728082), np.float32(0.08694767), np.float32(-0.03145116), np.float32(0.0042295638), np.float32(-0.0232887), np.float32(0.015838476), np.float32(0.012248894), np.float32(0.06071645), np.float32(0.04785089), np.float32(0.00082760234), np.float32(0.016686585), np.float32(-0.041785806), np.float32(-0.013120268), np.float32(0.024860883), np.float32(-0.021316646), np.float32(-0.0053191017), np.float32(-0.0024161392), np.float32(0.02402461), np.float32(-0.000421354), np.float32(0.006755963), np.float32(-0.02290911), np.float32(-0.015573824), np.float32(0.003376423), np.float32(-0.049565136), np.float32(-0.04048585), np.float32(0.02786934), np.float32(-0.03257685), np.float32(-0.0144987665), np.float32(0.006967042), np.float32(0.0028689576), np.float32(-0.008978327), np.float32(-0.008862213), np.float32(-0.018866854), np.float32(0.02064713), np.float32(0.026101647), np.float32(0.031148996), np.float32(-0.013548335), np.float32(-0.013473443), np.float32(-0.0054985406), np.float32(-0.014773205), np.float32(0.010054695), np.float32(-0.038752027), np.float32(-0.09896359), np.float32(-0.027530111), np.float32(-0.026578255), np.float32(0.028769573), np.float32(-0.013857982), np.float32(-0.04247354), np.float32(0.09544867), np.float32(0.074894674), np.float32(-0.011750106), np.float32(-0.002363416), np.float32(0.02162982), np.float32(-0.010537844), np.float32(0.030459791), np.float32(-0.013420925), np.float32(0.056415107), np.float32(-0.032414455), np.float32(0.031780977), np.float32(-0.0057658246), np.float32(-0.022319771), np.float32(-0.017656926), np.float32(-0.04752073), np.float32(0.031510588), np.float32(0.03733777), np.float32(-0.0022690063), np.float32(-0.04642383), np.float32(-0.09989931), np.float32(-0.019410834), np.float32(-0.056309838), np.float32(-0.043063752), np.float32(0.014738981), np.float32(0.0035295277), np.float32(0.0560833), np.float32(0.0411822), np.float32(-0.0009944404), np.float32(0.019502133), np.float32(-0.012314956), np.float32(0.01905179), np.float32(-0.0021368347), np.float32(0.029047234), np.float32(0.080307625), np.float32(0.025468595), np.float32(0.07704438), np.float32(-0.021088302), np.float32(-0.03402888), np.float32(-0.04600941), np.float32(0.018702466), np.float32(0.02922153), np.float32(-0.020849656), np.float32(-0.026715545), np.float32(0.062095184), np.float32(0.009084005), np.float32(0.07070787), np.float32(-0.033804093), np.float32(0.03254158), np.float32(0.031924374), np.float32(0.02267227), np.float32(-0.036467247), np.float32(-0.040837042), np.float32(-0.0068596033), np.float32(-0.115033634), np.float32(-0.009350498), np.float32(0.009014496), np.float32(0.013353222), np.float32(-0.018204376), np.float32(0.028366216), np.float32(0.043061372), np.float32(0.03272178), np.float32(0.07117612), np.float32(0.005160246), np.float32(-0.0091055995), np.float32(0.05102754), np.float32(-0.029728245), np.float32(0.028516611), np.float32(-0.000724966), np.float32(-0.0031720744), np.float32(-0.048314888), np.float32(-0.08206163), np.float32(-0.012049674), np.float32(-0.000508719), np.float32(-0.06358257), np.float32(0.029505067), np.float32(0.025600139), np.float32(0.045742404), np.float32(-0.053211927), np.float32(-0.004037784), np.float32(-0.060753483), np.float32(-0.022661064), np.float32(-0.028291272), np.float32(-0.037066117), np.float32(0.00072708994), np.float32(-0.050838795), np.float32(0.017698234), np.float32(-0.023997845), np.float32(-0.010647089), np.float32(-0.015736753), np.float32(0.005289876), np.float32(0.0102936495), np.float32(0.056283418), np.float32(-0.011544311), np.float32(0.00869393), np.float32(0.017598273), np.float32(-0.08910389), np.float32(-0.053315893), np.float32(0.0122999195), np.float32(0.029298492), np.float32(0.04642719), np.float32(-0.0043070293), np.float32(-0.009139662), np.float32(0.028048962), np.float32(0.010080071), np.float32(-0.05310102), np.float32(-0.0334809), np.float32(-0.042200856), np.float32(-0.018348902), np.float32(-0.036279097), np.float32(0.013816278), np.float32(-0.01259227), np.float32(-0.011407151), np.float32(-0.04428337), np.float32(0.010275363), np.float32(0.041654006), np.float32(-0.007885816), np.float32(0.0008150845), np.float32(0.04298714), np.float32(0.018986337), np.float32(-0.00566763), np.float32(0.00013609545), np.float32(-0.029173946), np.float32(-0.045636706), np.float32(0.058064222), np.float32(0.00067713513), np.float32(-0.06999036), np.float32(0.018261328), np.float32(0.023546116), np.float32(-0.028502904), np.float32(-0.0372516), np.float32(-0.060322247), np.float32(-0.01485523), np.float32(-0.027274624), np.float32(0.023729783), np.float32(-0.04005757), np.float32(0.004284207), np.float32(0.034326036), np.float32(-0.014623763), np.float32(-0.032212295), np.float32(0.006515774), np.float32(-0.011694883), np.float32(0.020043232), np.float32(-0.027792562), np.float32(0.024595652), np.float32(0.046039697), np.float32(0.0017808713), np.float32(0.0011758609), np.float32(-0.05096301), np.float32(-0.0043273526), np.float32(-0.0082370285), np.float32(0.105117254), np.float32(0.01701749), np.float32(0.0025839354), np.float32(0.0069667823), np.float32(0.02916081), np.float32(0.033835057), np.float32(0.059127163), np.float32(-0.03669182), np.float32(-0.0040119668), np.float32(-0.020522198), np.float32(-0.0053638043), np.float32(0.019748902), np.float32(-0.017320301), np.float32(-0.030784326), np.float32(0.06435051), np.float32(-0.010488931), np.float32(-0.011937982), np.float32(-0.026602564), np.float32(-0.0349573), np.float32(0.0012405135), np.float32(-0.023529142), np.float32(0.018226799), np.float32(0.020290608), np.float32(-0.014709187), np.float32(-0.02269236), np.float32(-0.034735955), np.float32(-0.017820746), np.float32(-0.028229935), np.float32(0.062015653), np.float32(0.013456647), np.float32(0.05977044), np.float32(-0.05121355), np.float32(-0.012989923), np.float32(-0.056244355), np.float32(-0.015829487), np.float32(-0.03096935), np.float32(-0.028269092), np.float32(-0.056362882), np.float32(-0.010924824), np.float32(-0.0025288765), np.float32(-0.022353316), np.float32(-0.028143184), np.float32(0.017061956), np.float32(-0.026743025), np.float32(-0.04790176), np.float32(-0.036730457), np.float32(0.06843849), np.float32(-0.010193721), np.float32(0.0004167674), np.float32(0.022595918), np.float32(0.030753054), np.float32(0.019276444), np.float32(0.0057910667), np.float32(-0.0056796786), np.float32(0.038219947), np.float32(-0.016086949), np.float32(0.030691726), np.float32(0.0044027483), np.float32(-0.06539903), np.float32(-0.039117254), np.float32(0.010204481), np.float32(-0.05856689), np.float32(0.016563553), np.float32(-0.006236865), np.float32(-0.13897522), np.float32(-0.020793568), np.float32(0.048943065), np.float32(0.040775962), np.float32(0.03043713), np.float32(-0.033128195), np.float32(0.04234956), np.float32(0.00885996), np.float32(-0.015394144), np.float32(0.014986823), np.float32(-0.013578122), np.float32(0.013903247), np.float32(-0.0008360189), np.float32(-0.0013697201), np.float32(0.035542507), np.float32(0.008369086), np.float32(0.07133641), np.float32(0.025898756), np.float32(-0.004417163), np.float32(-0.045489516), np.float32(-0.019040033), np.float32(0.035701744), np.float32(-0.10068199), np.float32(-0.06606657), np.float32(-0.0143554), np.float32(0.072528906), np.float32(0.08530513), np.float32(0.042917755), np.float32(-0.03145694), np.float32(-0.033115096), np.float32(-0.0065307827), np.float32(0.02015938), np.float32(-0.005740768), np.float32(-0.062109586), np.float32(0.032814596), np.float32(0.015026664), np.float32(0.011408491), np.float32(-0.0877435), np.float32(0.038908605), np.float32(0.0060280147), np.float32(-0.030558156), np.float32(0.042875797), np.float32(-0.01554936), np.float32(-0.07391272), np.float32(-0.02213911), np.float32(-0.031878598), np.float32(-0.009522931), np.float32(0.009861243), np.float32(-0.011569013), np.float32(0.034390245), np.float32(-0.08049486), np.float32(0.014044033), np.float32(-0.07672109), np.float32(-0.06714488), np.float32(-0.010078442), np.float32(0.0015689115), np.float32(0.030546008), np.float32(-0.0072577265), np.float32(0.10652496), np.float32(0.014890972), np.float32(0.01542299), np.float32(0.014039573), np.float32(-0.01056545), np.float32(0.0070919273), np.float32(0.036437258), np.float32(-0.056037854), np.float32(0.061431374), np.float32(0.032687973), np.float32(0.0053491276), np.float32(-0.02213081), np.float32(0.033974156), np.float32(-0.023533601), np.float32(0.024791239), np.float32(0.06143413), np.float32(-0.039910447), np.float32(-0.010899042), np.float32(-0.0045482167), np.float32(-0.0002974984), np.float32(0.019342037), np.float32(0.005932471), np.float32(0.002954667), np.float32(-0.07073704), np.float32(0.0043336507), np.float32(-0.05734786), np.float32(0.040620066), np.float32(0.048639063), np.float32(-0.0076624057), np.float32(0.0068910327), np.float32(0.03355997), np.float32(-0.013205418), np.float32(-0.04071808), np.float32(-0.04008698), np.float32(-0.039773617), np.float32(0.047041774), np.float32(-0.0031562296), np.float32(0.0012057353), np.float32(-0.018283177), np.float32(0.047002673), np.float32(-0.08620517), np.float32(-0.005580948), np.float32(-0.07238403), np.float32(0.052917615), np.float32(0.030404035), np.float32(0.065435074), np.float32(0.049793042), np.float32(0.04340167), np.float32(-0.04959818), np.float32(0.02434492), np.float32(0.019741828), np.float32(0.029212063), np.float32(-0.046416853), np.float32(0.0034977715), np.float32(0.07581704), np.float32(-0.05852793), np.float32(-0.007137339), np.float32(-0.041292675)], 'text': 'Born in Maida Vale, London, Turing was raised in southern England.', 'subject': 'history', 'id': 2}\"]\n"
     ]
    }
   ],
   "source": [
    "res = client.query(\n",
    "    collection_name=\"demo_collection\",\n",
    "    ids=[0, 2],\n",
    "    output_fields=[\"vector\", \"text\", \"subject\"],\n",
    ")\n",
    "\n",
    "print(res)"
   ]
  },
  {
   "cell_type": "code",
   "execution_count": 28,
   "id": "2c72229b",
   "metadata": {},
   "outputs": [
    {
     "name": "stdout",
     "output_type": "stream",
     "text": [
      "{'delete_count': 2}\n",
      "{'delete_count': 3}\n"
     ]
    }
   ],
   "source": [
    "res = client.delete(collection_name=\"demo_collection\", ids=[0, 2])\n",
    "print(res)\n",
    "\n",
    "res = client.delete(\n",
    "    collection_name=\"demo_collection\",\n",
    "    filter=\"subject == 'biology'\",\n",
    ")\n",
    "\n",
    "print(res)"
   ]
  },
  {
   "cell_type": "code",
   "execution_count": 29,
   "id": "e5a5b21e",
   "metadata": {},
   "outputs": [],
   "source": [
    "if client.has_collection(collection_name=\"demo2_collection\"):\n",
    "    client.drop_collection(collection_name=\"demo2_collection\")\n",
    "client.create_collection(\n",
    "    collection_name=\"demo2_collection\",\n",
    "    dimension=768,  # The vectors we will use in this demo has 768 dimensions\n",
    ")"
   ]
  },
  {
   "cell_type": "code",
   "execution_count": 30,
   "id": "b5a171be",
   "metadata": {},
   "outputs": [
    {
     "name": "stdout",
     "output_type": "stream",
     "text": [
      "['demo_collection', 'demo2_collection']\n"
     ]
    }
   ],
   "source": [
    "print(client.list_collections())"
   ]
  },
  {
   "cell_type": "code",
   "execution_count": 31,
   "id": "b70b4ff1",
   "metadata": {},
   "outputs": [
    {
     "name": "stdout",
     "output_type": "stream",
     "text": [
      "Inserted: {'insert_count': 3, 'ids': [0, 1, 2]}\n"
     ]
    }
   ],
   "source": [
    "text = [\n",
    "    \"The Milky Way is the galaxy that contains our Solar System.\",\n",
    "    \"Saturn is the sixth planet from the Sun and is known for its prominent rings.\",\n",
    "    \"Neil Armstrong was the first person to walk on the Moon.\"\n",
    "]\n",
    "\n",
    "vectors = embedding_fn.encode_documents(text)\n",
    "\n",
    "data = [\n",
    "    {\"id\": i, \"vector\": vectors[i], \"text\": text[i], \"subject\": \"astronomy\"}\n",
    "    for i in range(len(docs))\n",
    "]\n",
    "\n",
    "response = client.insert(collection_name=\"demo_collection\", data=data)\n",
    "print(\"Inserted:\", response)"
   ]
  },
  {
   "cell_type": "code",
   "execution_count": 32,
   "id": "cb2bf8d7",
   "metadata": {},
   "outputs": [],
   "source": [
    "client.drop_collection(collection_name=\"demo_collection\")"
   ]
  },
  {
   "cell_type": "code",
   "execution_count": 33,
   "id": "0613aa67",
   "metadata": {},
   "outputs": [
    {
     "name": "stdout",
     "output_type": "stream",
     "text": [
      "['demo2_collection']\n"
     ]
    }
   ],
   "source": [
    "print(client.list_collections())"
   ]
  }
 ],
 "metadata": {
  "kernelspec": {
   "display_name": "milvus-env",
   "language": "python",
   "name": "python3"
  },
  "language_info": {
   "codemirror_mode": {
    "name": "ipython",
    "version": 3
   },
   "file_extension": ".py",
   "mimetype": "text/x-python",
   "name": "python",
   "nbconvert_exporter": "python",
   "pygments_lexer": "ipython3",
   "version": "3.12.0"
  }
 },
 "nbformat": 4,
 "nbformat_minor": 5
}
