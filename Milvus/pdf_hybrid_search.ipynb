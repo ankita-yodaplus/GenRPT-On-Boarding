{
 "cells": [
  {
   "cell_type": "code",
   "execution_count": 1,
   "id": "b896d465",
   "metadata": {},
   "outputs": [
    {
     "name": "stdout",
     "output_type": "stream",
     "text": [
      "Total Chunks: 585\n"
     ]
    }
   ],
   "source": [
    "import fitz  # PyMuPDF\n",
    "\n",
    "pdf_path = \"IPL_Teams.pdf\"\n",
    "doc = fitz.open(pdf_path)\n",
    "\n",
    "text_chunks = []\n",
    "page_numbers = []\n",
    "\n",
    "# Loop through all pages and chunk text\n",
    "for page_num in range(len(doc)):\n",
    "    text = doc[page_num].get_text()\n",
    "    \n",
    "    # Split long text into chunks (e.g., 500 characters)\n",
    "    chunks = [text[i:i+500] for i in range(0, len(text), 500)]\n",
    "    \n",
    "    text_chunks.extend(chunks)\n",
    "    page_numbers.extend([page_num + 1] * len(chunks))\n",
    "\n",
    "print(f\"Total Chunks: {len(text_chunks)}\")\n"
   ]
  },
  {
   "cell_type": "code",
   "execution_count": 2,
   "id": "2ea8124b",
   "metadata": {},
   "outputs": [
    {
     "name": "stderr",
     "output_type": "stream",
     "text": [
      "c:\\Users\\ankit\\OneDrive\\Desktop\\GenRPT-On-Boarding\\Milvus\\milvus-env\\Lib\\site-packages\\tqdm\\auto.py:21: TqdmWarning: IProgress not found. Please update jupyter and ipywidgets. See https://ipywidgets.readthedocs.io/en/stable/user_install.html\n",
      "  from .autonotebook import tqdm as notebook_tqdm\n",
      "Batches: 100%|██████████| 19/19 [00:05<00:00,  3.19it/s]\n"
     ]
    }
   ],
   "source": [
    "from sentence_transformers import SentenceTransformer\n",
    "\n",
    "# Load a lightweight and fast model\n",
    "model = SentenceTransformer(\"all-MiniLM-L6-v2\")\n",
    "\n",
    "# Convert each chunk to a 384-dim vector\n",
    "embeddings = model.encode(text_chunks, show_progress_bar=True).tolist()\n"
   ]
  },
  {
   "cell_type": "code",
   "execution_count": 3,
   "id": "5103cff4",
   "metadata": {},
   "outputs": [],
   "source": [
    "from pymilvus import connections, FieldSchema, CollectionSchema, Collection, DataType\n",
    "\n",
    "# Connect to Milvus (default host/port)\n",
    "connections.connect(alias=\"default\", host=\"localhost\", port=\"19530\")\n",
    "\n",
    "# Define schema\n",
    "fields = [\n",
    "    FieldSchema(name=\"id\", dtype=DataType.INT64, is_primary=True, auto_id=True),\n",
    "    FieldSchema(name=\"text\", dtype=DataType.VARCHAR, max_length=1000),\n",
    "    FieldSchema(name=\"page\", dtype=DataType.INT64),\n",
    "    FieldSchema(name=\"embedding\", dtype=DataType.FLOAT_VECTOR, dim=384),\n",
    "]\n",
    "\n",
    "schema = CollectionSchema(fields, description=\"Storing IPL PDF content\")\n",
    "\n",
    "# Create collection\n",
    "collection = Collection(name=\"ipl_teams_search\", schema=schema)\n",
    "\n",
    "# Indexing for fast ANN search\n",
    "collection.create_index(\"embedding\", {\n",
    "    \"index_type\": \"HNSW\",\n",
    "    \"metric_type\": \"COSINE\",\n",
    "    \"params\": {\"M\": 8, \"efConstruction\": 64}\n",
    "})\n",
    "\n",
    "collection.load()\n"
   ]
  },
  {
   "cell_type": "code",
   "execution_count": 4,
   "id": "f9686008",
   "metadata": {},
   "outputs": [
    {
     "name": "stdout",
     "output_type": "stream",
     "text": [
      "Data inserted into Milvus!\n"
     ]
    }
   ],
   "source": [
    "entities = [\n",
    "    text_chunks,     # text\n",
    "    page_numbers,    # page\n",
    "    embeddings       # embeddings\n",
    "]\n",
    "\n",
    "collection.insert(entities)\n",
    "print(\"Data inserted into Milvus!\")\n"
   ]
  },
  {
   "cell_type": "code",
   "execution_count": 7,
   "id": "b29a9016",
   "metadata": {},
   "outputs": [
    {
     "name": "stdout",
     "output_type": "stream",
     "text": [
      "Score: 0.6961 | Page: 2\n",
      "Text: Hyderabad.[2] India Cements acquired the rights to the franchise for 10 years. Former\n",
      "ICC  Chairman  N.  Srinivasan  was  the  de  facto  owner  of  the  Chennai  Super  Kings,  by\n",
      "means of his position as the vice-chairman and managing director of India Cements Ltd.\n",
      "The franchisee was transferred t...\n",
      "\n",
      "Score: 0.6939 | Page: 1\n",
      "Text: Chennai Super Kings\n",
      "T20 kit\n",
      "Chennai  Super  Kings  (CSK)  is  an  Indian  professional  T20  cricket  franchise  based  in\n",
      "Chennai, Tamil Nadu. The team competes in the Indian Premier League (IPL) and was\n",
      "one of the eight franchises incorporated when the league was established in 2008. The\n",
      "team  pla...\n",
      "\n",
      "Score: 0.5361 | Page: 3\n",
      "Text: x wickets as they chased down the\n",
      "target of 193 with two balls to spare with skipper Dhoni scoring an unbeaten 54 from 29\n",
      "balls.[17]  Thus,  with  seven  wins  from  14  matches,  Chennai  finished  with  the  same\n",
      "number of points as three other teams with two semi-final spots at stake. Chennai got...\n",
      "\n"
     ]
    }
   ],
   "source": [
    "query = \"What is Chennai  Super  Kings ?\"\n",
    "query_vec = model.encode([query])[0]\n",
    "\n",
    "# Perform hybrid search: semantic + page filter\n",
    "results = collection.search(\n",
    "    data=[query_vec],\n",
    "    anns_field=\"embedding\",\n",
    "    param={\"metric_type\": \"COSINE\", \"params\": {\"ef\": 64}},\n",
    "    limit=3,\n",
    "    expr=\"page >= 1 && page <= 5\",  # optional filter\n",
    "    output_fields=[\"text\", \"page\"]\n",
    ")\n",
    "\n",
    "for res in results[0]:\n",
    "    print(f\"Score: {res.score:.4f} | Page: {res.entity.get('page')}\")\n",
    "    print(f\"Text: {res.entity.get('text')[:300]}...\\n\")\n"
   ]
  }
 ],
 "metadata": {
  "kernelspec": {
   "display_name": "milvus-env",
   "language": "python",
   "name": "python3"
  },
  "language_info": {
   "codemirror_mode": {
    "name": "ipython",
    "version": 3
   },
   "file_extension": ".py",
   "mimetype": "text/x-python",
   "name": "python",
   "nbconvert_exporter": "python",
   "pygments_lexer": "ipython3",
   "version": "3.12.0"
  }
 },
 "nbformat": 4,
 "nbformat_minor": 5
}
